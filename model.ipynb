{
 "cells": [
  {
   "cell_type": "code",
   "execution_count": 2,
   "metadata": {},
   "outputs": [],
   "source": [
    "import requests\n",
    "import pandas as pd"
   ]
  },
  {
   "cell_type": "code",
   "execution_count": 3,
   "metadata": {},
   "outputs": [],
   "source": [
    "cards = pd.read_csv('commander_cards_all_v1.csv')"
   ]
  },
  {
   "cell_type": "markdown",
   "metadata": {},
   "source": [
    "## Data preprocessing & cleaning"
   ]
  },
  {
   "cell_type": "code",
   "execution_count": 4,
   "metadata": {},
   "outputs": [],
   "source": [
    "card_dict = cards.drop(columns=['double-sided'], axis=1) # we don't care if the cards are double-sided, for now"
   ]
  },
  {
   "cell_type": "code",
   "execution_count": 5,
   "metadata": {},
   "outputs": [],
   "source": [
    "card_dict['card_name'] = card_dict['card_name'].str.split('/|\\(', expand=True)[0] # remove all characters after ( or / etc"
   ]
  },
  {
   "cell_type": "code",
   "execution_count": 6,
   "metadata": {},
   "outputs": [
    {
     "data": {
      "text/html": [
       "<div>\n",
       "<style scoped>\n",
       "    .dataframe tbody tr th:only-of-type {\n",
       "        vertical-align: middle;\n",
       "    }\n",
       "\n",
       "    .dataframe tbody tr th {\n",
       "        vertical-align: top;\n",
       "    }\n",
       "\n",
       "    .dataframe thead th {\n",
       "        text-align: right;\n",
       "    }\n",
       "</style>\n",
       "<table border=\"1\" class=\"dataframe\">\n",
       "  <thead>\n",
       "    <tr style=\"text-align: right;\">\n",
       "      <th></th>\n",
       "      <th>img_url</th>\n",
       "      <th>card_name</th>\n",
       "      <th>cost</th>\n",
       "    </tr>\n",
       "  </thead>\n",
       "  <tbody>\n",
       "    <tr>\n",
       "      <th>0</th>\n",
       "      <td>https://cards.scryfall.io/large/front/9/f/9f76...</td>\n",
       "      <td>Eruth, Tormented Prophet</td>\n",
       "      <td>3</td>\n",
       "    </tr>\n",
       "    <tr>\n",
       "      <th>1</th>\n",
       "      <td>https://cards.scryfall.io/large/front/f/6/f6cd...</td>\n",
       "      <td>Esika, God of the Tree</td>\n",
       "      <td>3</td>\n",
       "    </tr>\n",
       "    <tr>\n",
       "      <th>2</th>\n",
       "      <td>https://cards.scryfall.io/large/front/8/6/8695...</td>\n",
       "      <td>Esior, Wardwing Familiar</td>\n",
       "      <td>2</td>\n",
       "    </tr>\n",
       "    <tr>\n",
       "      <th>3</th>\n",
       "      <td>https://cards.scryfall.io/large/front/2/e/2e39...</td>\n",
       "      <td>Esix, Fractal Bloom</td>\n",
       "      <td>6</td>\n",
       "    </tr>\n",
       "    <tr>\n",
       "      <th>4</th>\n",
       "      <td>https://cards.scryfall.io/large/front/3/3/3340...</td>\n",
       "      <td>Estrid, the Masked</td>\n",
       "      <td>4</td>\n",
       "    </tr>\n",
       "    <tr>\n",
       "      <th>...</th>\n",
       "      <td>...</td>\n",
       "      <td>...</td>\n",
       "      <td>...</td>\n",
       "    </tr>\n",
       "    <tr>\n",
       "      <th>1155</th>\n",
       "      <td>https://cards.scryfall.io/large/front/e/a/ea1a...</td>\n",
       "      <td>Zaffai, Thunder Conductor</td>\n",
       "      <td>2</td>\n",
       "    </tr>\n",
       "    <tr>\n",
       "      <th>1156</th>\n",
       "      <td>https://cards.scryfall.io/large/front/a/c/ac81...</td>\n",
       "      <td>Zagras, Thief of Heartbeats</td>\n",
       "      <td>2</td>\n",
       "    </tr>\n",
       "    <tr>\n",
       "      <th>1157</th>\n",
       "      <td>https://cards.scryfall.io/large/front/8/8/880f...</td>\n",
       "      <td>Zahid, Djinn of the Lamp</td>\n",
       "      <td>2</td>\n",
       "    </tr>\n",
       "    <tr>\n",
       "      <th>1158</th>\n",
       "      <td>https://cards.scryfall.io/large/front/9/c/9c6d...</td>\n",
       "      <td>Zalto, Fire Giant Duke</td>\n",
       "      <td>2</td>\n",
       "    </tr>\n",
       "    <tr>\n",
       "      <th>1159</th>\n",
       "      <td>https://cards.scryfall.io/large/front/b/c/bc88...</td>\n",
       "      <td>Zamriel, Seraph of Steel</td>\n",
       "      <td>2</td>\n",
       "    </tr>\n",
       "  </tbody>\n",
       "</table>\n",
       "<p>1160 rows × 3 columns</p>\n",
       "</div>"
      ],
      "text/plain": [
       "                                                img_url  \\\n",
       "0     https://cards.scryfall.io/large/front/9/f/9f76...   \n",
       "1     https://cards.scryfall.io/large/front/f/6/f6cd...   \n",
       "2     https://cards.scryfall.io/large/front/8/6/8695...   \n",
       "3     https://cards.scryfall.io/large/front/2/e/2e39...   \n",
       "4     https://cards.scryfall.io/large/front/3/3/3340...   \n",
       "...                                                 ...   \n",
       "1155  https://cards.scryfall.io/large/front/e/a/ea1a...   \n",
       "1156  https://cards.scryfall.io/large/front/a/c/ac81...   \n",
       "1157  https://cards.scryfall.io/large/front/8/8/880f...   \n",
       "1158  https://cards.scryfall.io/large/front/9/c/9c6d...   \n",
       "1159  https://cards.scryfall.io/large/front/b/c/bc88...   \n",
       "\n",
       "                         card_name  cost  \n",
       "0        Eruth, Tormented Prophet      3  \n",
       "1          Esika, God of the Tree      3  \n",
       "2        Esior, Wardwing Familiar      2  \n",
       "3             Esix, Fractal Bloom      6  \n",
       "4              Estrid, the Masked      4  \n",
       "...                            ...   ...  \n",
       "1155    Zaffai, Thunder Conductor      2  \n",
       "1156  Zagras, Thief of Heartbeats      2  \n",
       "1157     Zahid, Djinn of the Lamp      2  \n",
       "1158       Zalto, Fire Giant Duke      2  \n",
       "1159     Zamriel, Seraph of Steel      2  \n",
       "\n",
       "[1160 rows x 3 columns]"
      ]
     },
     "metadata": {},
     "output_type": "display_data"
    }
   ],
   "source": [
    "display(card_dict)"
   ]
  },
  {
   "cell_type": "code",
   "execution_count": 7,
   "metadata": {},
   "outputs": [],
   "source": [
    "card_dict['card_name'] = card_dict['card_name'].str.replace('[, ]', '_', regex=True)"
   ]
  },
  {
   "cell_type": "code",
   "execution_count": 8,
   "metadata": {},
   "outputs": [
    {
     "data": {
      "text/html": [
       "<div>\n",
       "<style scoped>\n",
       "    .dataframe tbody tr th:only-of-type {\n",
       "        vertical-align: middle;\n",
       "    }\n",
       "\n",
       "    .dataframe tbody tr th {\n",
       "        vertical-align: top;\n",
       "    }\n",
       "\n",
       "    .dataframe thead th {\n",
       "        text-align: right;\n",
       "    }\n",
       "</style>\n",
       "<table border=\"1\" class=\"dataframe\">\n",
       "  <thead>\n",
       "    <tr style=\"text-align: right;\">\n",
       "      <th></th>\n",
       "      <th>img_url</th>\n",
       "      <th>card_name</th>\n",
       "      <th>cost</th>\n",
       "    </tr>\n",
       "  </thead>\n",
       "  <tbody>\n",
       "    <tr>\n",
       "      <th>0</th>\n",
       "      <td>https://cards.scryfall.io/large/front/9/f/9f76...</td>\n",
       "      <td>Eruth__Tormented_Prophet_</td>\n",
       "      <td>3</td>\n",
       "    </tr>\n",
       "    <tr>\n",
       "      <th>1</th>\n",
       "      <td>https://cards.scryfall.io/large/front/f/6/f6cd...</td>\n",
       "      <td>Esika__God_of_the_Tree_</td>\n",
       "      <td>3</td>\n",
       "    </tr>\n",
       "    <tr>\n",
       "      <th>2</th>\n",
       "      <td>https://cards.scryfall.io/large/front/8/6/8695...</td>\n",
       "      <td>Esior__Wardwing_Familiar_</td>\n",
       "      <td>2</td>\n",
       "    </tr>\n",
       "    <tr>\n",
       "      <th>3</th>\n",
       "      <td>https://cards.scryfall.io/large/front/2/e/2e39...</td>\n",
       "      <td>Esix__Fractal_Bloom_</td>\n",
       "      <td>6</td>\n",
       "    </tr>\n",
       "    <tr>\n",
       "      <th>4</th>\n",
       "      <td>https://cards.scryfall.io/large/front/3/3/3340...</td>\n",
       "      <td>Estrid__the_Masked_</td>\n",
       "      <td>4</td>\n",
       "    </tr>\n",
       "    <tr>\n",
       "      <th>...</th>\n",
       "      <td>...</td>\n",
       "      <td>...</td>\n",
       "      <td>...</td>\n",
       "    </tr>\n",
       "    <tr>\n",
       "      <th>1155</th>\n",
       "      <td>https://cards.scryfall.io/large/front/e/a/ea1a...</td>\n",
       "      <td>Zaffai__Thunder_Conductor_</td>\n",
       "      <td>2</td>\n",
       "    </tr>\n",
       "    <tr>\n",
       "      <th>1156</th>\n",
       "      <td>https://cards.scryfall.io/large/front/a/c/ac81...</td>\n",
       "      <td>Zagras__Thief_of_Heartbeats_</td>\n",
       "      <td>2</td>\n",
       "    </tr>\n",
       "    <tr>\n",
       "      <th>1157</th>\n",
       "      <td>https://cards.scryfall.io/large/front/8/8/880f...</td>\n",
       "      <td>Zahid__Djinn_of_the_Lamp_</td>\n",
       "      <td>2</td>\n",
       "    </tr>\n",
       "    <tr>\n",
       "      <th>1158</th>\n",
       "      <td>https://cards.scryfall.io/large/front/9/c/9c6d...</td>\n",
       "      <td>Zalto__Fire_Giant_Duke_</td>\n",
       "      <td>2</td>\n",
       "    </tr>\n",
       "    <tr>\n",
       "      <th>1159</th>\n",
       "      <td>https://cards.scryfall.io/large/front/b/c/bc88...</td>\n",
       "      <td>Zamriel__Seraph_of_Steel_</td>\n",
       "      <td>2</td>\n",
       "    </tr>\n",
       "  </tbody>\n",
       "</table>\n",
       "<p>1160 rows × 3 columns</p>\n",
       "</div>"
      ],
      "text/plain": [
       "                                                img_url  \\\n",
       "0     https://cards.scryfall.io/large/front/9/f/9f76...   \n",
       "1     https://cards.scryfall.io/large/front/f/6/f6cd...   \n",
       "2     https://cards.scryfall.io/large/front/8/6/8695...   \n",
       "3     https://cards.scryfall.io/large/front/2/e/2e39...   \n",
       "4     https://cards.scryfall.io/large/front/3/3/3340...   \n",
       "...                                                 ...   \n",
       "1155  https://cards.scryfall.io/large/front/e/a/ea1a...   \n",
       "1156  https://cards.scryfall.io/large/front/a/c/ac81...   \n",
       "1157  https://cards.scryfall.io/large/front/8/8/880f...   \n",
       "1158  https://cards.scryfall.io/large/front/9/c/9c6d...   \n",
       "1159  https://cards.scryfall.io/large/front/b/c/bc88...   \n",
       "\n",
       "                         card_name  cost  \n",
       "0        Eruth__Tormented_Prophet_     3  \n",
       "1          Esika__God_of_the_Tree_     3  \n",
       "2        Esior__Wardwing_Familiar_     2  \n",
       "3             Esix__Fractal_Bloom_     6  \n",
       "4              Estrid__the_Masked_     4  \n",
       "...                            ...   ...  \n",
       "1155    Zaffai__Thunder_Conductor_     2  \n",
       "1156  Zagras__Thief_of_Heartbeats_     2  \n",
       "1157     Zahid__Djinn_of_the_Lamp_     2  \n",
       "1158       Zalto__Fire_Giant_Duke_     2  \n",
       "1159     Zamriel__Seraph_of_Steel_     2  \n",
       "\n",
       "[1160 rows x 3 columns]"
      ]
     },
     "metadata": {},
     "output_type": "display_data"
    }
   ],
   "source": [
    "display(card_dict)"
   ]
  },
  {
   "cell_type": "code",
   "execution_count": 9,
   "metadata": {},
   "outputs": [
    {
     "name": "stdout",
     "output_type": "stream",
     "text": [
      "img_url      1160\n",
      "card_name    1160\n",
      "cost           11\n",
      "dtype: int64\n"
     ]
    }
   ],
   "source": [
    "print(card_dict.nunique()) # Check that the names are all unique - they are"
   ]
  },
  {
   "cell_type": "code",
   "execution_count": 14,
   "metadata": {},
   "outputs": [
    {
     "name": "stdout",
     "output_type": "stream",
     "text": [
      "{'Eruth__Tormented_Prophet_': 3, 'Esika__God_of_the_Tree_': 3, 'Esior__Wardwing_Familiar_': 2, 'Esix__Fractal_Bloom_': 6, 'Estrid__the_Masked_': 4, 'Etali__Primal_Conqueror_': 7, 'Etali__Primal_Storm_': 6, 'Etrata__Deadly_Fugitive_': 3, 'Etrata__the_Silencer_': 4, 'Eutropia_the_Twice-Favored_': 3, 'Evelyn__the_Covetous_': 5, 'Evra__Halcyon_Witness_': 6, 'Exava__Rakdos_Blood_Witch_': 4, 'Experiment_Kraj_': 6, 'Extus__Oriq_Overlord_': 4, 'Ezio_Auditore_da_Firenze_': 2, 'Ezio__Blade_of_Vengeance_': 5, 'Ezrim__Agency_Chief_': 5, 'Ezuri__Claw_of_Progress_': 4, 'Ezuri__Renegade_Leader_': 3, 'Ezuri__Stalker_of_Spheres_': 4, 'Faceless_One_': 5, 'Fain__the_Broker_': 3, 'Falco_Spara__Pactweaver_': 4, 'Faldorn__Dread_Wolf_Herald_': 3, 'Falthis__Shadowcat_Familiar_': 3, 'Fangorn__Tree_Shepherd_': 7, 'Faramir__Field_Commander_': 4, 'Faramir__Prince_of_Ithilien_': 4, 'Faramir__Steward_of_Gondor_': 3, \"Farideh__Devil's_Chosen_\": 4, 'Farid__Enterprising_Salvager_': 3, 'Farmer_Cotton_': 2, 'Far_Traveler_': 3, 'Fblthp__Lost_on_the_Range_': 3, 'Fblthp__the_Lost_': 2, 'Feather__Radiant_Arbiter_': 3, 'Feather__the_Redeemed_': 3, 'Feldon_of_the_Third_Path_': 3, 'Feldon__Ronom_Excavator_': 2, 'Felisa__Fang_of_Silverquill_': 4, 'Feywild_Visitor_': 3, 'Firesong_and_Sunspeaker_': 6, 'Firja__Judge_of_Valor_': 5, 'Firkraag__Cunning_Instigator_': 5, 'Flamewar__Brash_Veteran_': 3, 'Flaming_Fist_': 3, 'Florian__Voldaren_Scion_': 3, \"Fluros_of_Myra's_Marvels_\": 4, 'Folk_Hero_': 2, 'Forge__Neverwinter_Charlatan_': 4, 'Francisco__Fowl_Marauder_': 2, 'Frankie_Peanuts_': 4, \"Freyalise__Llanowar's_Fury_\": 5, 'Frodo__Adventurous_Hobbit_': 2, 'Frodo_Baggins_': 2, 'Frodo__Determined_Hero_': 2, \"Frodo__Sauron's_Bane_\": 1, 'Fumiko_the_Lowblood_': 4, 'Fynn__the_Fangbearer_': 2, 'Gabriel_Angelfire_': 7, 'Gaddock_Teeg_': 2, 'Gadrak__the_Crown-Scourge_': 3, 'Gadwick__the_Wizened_': 3, 'Gahiji__Honored_One_': 5, 'Galadriel__Elven-Queen_': 4, 'Galadriel__Gift-Giver_': 5, 'Galadriel__Light_of_Valinor_': 5, 'Galadriel_of_Lothlórien_': 3, 'Galazeth_Prismari_': 4, 'Galea__Kindler_of_Hope_': 4, 'Gale__Conduit_of_the_Arcane_': 4, 'Gale__Waterdeep_Prodigy_': 3, 'Gallia_of_the_Endless_Dance_': 2, 'Gallowbraid_': 5, 'Ganax__Astral_Hunter_': 5, 'Gandalf__Friend_of_the_Shire_': 4, 'Gandalf_of_the_Secret_Fire_': 4, 'Gandalf_the_Grey_': 5, 'Gandalf_the_White_': 5, 'Gandalf__Westward_Voyager_': 5, 'Gandalf__White_Rider_': 4, 'Gargos__Vicious_Watcher_': 6, 'Garna__Bloodfist_of_Keld_': 4, 'Garna__the_Bloodflame_': 5, 'Garth_One-Eye_': 5, 'Garza_Zol__Plague_Queen_': 7, 'Gavi__Nest_Warden_': 5, 'Geist_of_Saint_Traft_': 3, 'General_Ferrous_Rokiric_': 3, 'General_Jarkeld_': 4, 'General_Kudro_of_Drannith_': 3, 'General_Marhault_Elsdragon_': 4, 'General_Tazri_': 5, 'Geralf__Visionary_Stitcher_': 3, 'Gerrard_Capashen_': 5, 'Gerrard__Weatherlight_Hero_': 4, 'Geth__Lord_of_the_Vault_': 6, 'Geth__Thane_of_Contracts_': 3, 'Ghalma_the_Shaper_': 3, 'Ghalta_and_Mavren_': 7, 'Ghalta__Primal_Hunger_': 12, 'Ghalta__Stampede_Tyrant_': 8, 'Ghave__Guru_of_Spores_': 5, 'Ghen__Arcanum_Weaver_': 3, 'Ghired__Conclave_Exile_': 5, 'Ghost_Council_of_Orzhova_': 4, 'Ghost_of_Ramirez_DePietro_': 3, 'Ghoulcaller_Gisa_': 5, 'Ghyrson_Starn__Kelermorph_': 3, 'Giada__Font_of_Hope_': 2, 'Gilanra__Caller_of_Wirewood_': 3, 'Gilraen__Dúnedain_Protector_': 3, 'Gimbal__Gremlin_Prodigy_': 5, 'Gimli__Counter_of_Kills_': 4, 'Gimli__Mournful_Avenger_': 3, 'Gimli_of_the_Glittering_Caves_': 3, 'Gisa_and_Geralf_': 4, 'Gisa__Glorious_Resurrector_': 4, 'Gisela__Blade_of_Goldnight_': 7, 'Gisela__the_Broken_Blade_': 4, \"Gishath__Sun's_Avatar_\": 8, 'Gitrog__Horror_of_Zhava_': 4, 'Gix__Yawgmoth_Praetor_': 3, 'Glacian__Powerstone_Engineer_': 6, 'Glissa__Herald_of_Predation_': 5, 'Glissa_Sunseeker_': 4, 'Glissa_Sunslayer_': 3, 'Glissa__the_Traitor_': 3, 'Glóin__Dwarf_Emissary_': 3, 'Glorfindel__Dauntless_Rescuer_': 3, 'Gluntch__the_Bestower_': 3, 'Gnostro__Voice_of_the_Crags_': 4, 'Goddric__Cloaked_Reveler_': 3, 'God-Eternal_Bontu_': 5, 'God-Eternal_Kefnet_': 4, 'God-Eternal_Oketra_': 5, 'God-Eternal_Rhonas_': 5, 'Godo__Bandit_Warlord_': 6, 'Goldberry__River-Daughter_': 2, \"Goldbug__Humanity's_Ally_\": 3, 'Gollum__Obsessed_Stalker_': 2, 'Gollum__Patient_Plotter_': 2, 'Gollum__Scheming_Guide_': 2, 'Gonti__Lord_of_Luxury_': 4, 'Gorbag_of_Minas_Morgul_': 2, 'Goreclaw__Terror_of_Qal_Sisma_': 4, 'Gorex__the_Tombshell_': 8, 'Gorion__Wise_Mentor_': 3, 'Gorm_the_Great_': 4, 'Gor_Muldrak__Amphinologist_': 3, 'Goro-Goro_and_Satoru_': 3, 'Goro-Goro__Disciple_of_Ryusei_': 2, 'Go-Shintai_of_Ancient_Wars_': 3, 'Go-Shintai_of_Boundless_Vigor_': 2, 'Go-Shintai_of_Hidden_Cruelty_': 4, \"Go-Shintai_of_Life's_Origin_\": 4, 'Go-Shintai_of_Lost_Wisdom_': 2, 'Go-Shintai_of_Shared_Purpose_': 4, 'Gosta_Dirk_': 7, 'Gothmog__Morgul_Lieutenant_': 4, 'Graaz__Unstoppable_Juggernaut_': 8, \"Graham_O'Brien_\": 2, 'Grakmaw__Skyclave_Ravager_': 3, 'Grand_Arbiter_Augustin_IV_': 4, 'Grand_Marshal_Macie_': 3, 'Grandmother_Sengir_': 5, 'Grand_Warlord_Radha_': 4, 'Grazilaxx__Illithid_Scholar_': 3, 'Greasefang__Okiba_Boss_': 3, 'Greel__Mind_Raker_': 5, 'Greensleeves__Maro-Sorcerer_': 5, 'Gregor__Shrewd_Magistrate_': 3, 'Grenzo__Dungeon_Warden_': 2, 'Grenzo__Havoc_Raiser_': 2, 'Greta__Sweettooth_Scourge_': 3, 'Gretchen_Titchwillow_': 2, 'Greven__Predator_Captain_': 5, \"Greymond__Avacyn's_Stalwart_\": 4, \"Gríma__Saruman's_Footman_\": 4, 'Gríma_Wormtongue_': 3, 'Grimgrin__Corpse-Born_': 5, 'Grishnákh__Brash_Instigator_': 3, 'Grismold__the_Dreadsower_': 3, 'Grist__the_Hunger_Tide_': 3, 'Grolnok__the_Omnivore_': 4, 'Grothama__All-Devouring_': 5, 'Grumgully__the_Generous_': 3, 'Grunn__the_Lonely_King_': 6, 'Grusilda__Monster_Masher_': 5, 'Guan_Yu__Sainted_Warrior_': 5, 'Guild_Artisan_': 2, 'Gut__Fanatical_Priestess_': 6, 'Gutmorn__Pactbound_Servant_': 3, 'Gut__True_Soul_Zealot_': 3, 'Gwafa_Hazid__Profiteer_': 3, 'Gwaihir__Greatest_of_the_Eagles_': 5, 'Gwaihir_the_Windlord_': 6, 'Gwendlyn_Di_Corci_': 4, 'Gwenna__Eyes_of_Gaea_': 3, 'Gylwain__Casting_Director_': 3, 'Gyome__Master_Chef_': 4, 'Gyox__Brutal_Carnivora_': 3, 'Gyruda__Doom_of_Depths_': 6, 'Gyrus__Waker_of_Corpses_': 3, 'Haakon__Stromgald_Scourge_': 3, 'Hajar__Loyal_Bodyguard_': 2, 'Hakbal_of_the_Surging_Soul_': 4, 'Hakim__Loreweaver_': 5, 'Haktos_the_Unscarred_': 4, 'Halana_and_Alena__Partners_': 4, 'Halana__Kessig_Ranger_': 4, 'Haldan__Avid_Arcanist_': 3, 'Haldir__Lórien_Lieutenant_': 1, 'Halfdane_': 4, 'Hallar__the_Firefletcher_': 3, 'Halsin__Emerald_Archdruid_': 4, 'Halvar__God_of_Battle_': 4, 'Hama_Pashar__Ruin_Seeker_': 3, 'Hamza__Guardian_of_Arashin_': 6, 'Hancock__Ghoulish_Mayor_': 3, \"Hanna__Ship's_Navigator_\": 3, 'Hans_Eriksson_': 4, 'Hansk__Slayer_Zealot_': 4, 'Hapatra__Vizier_of_Poisons_': 2, 'Harald__King_of_Skemfar_': 3, 'Harbin__Vanguard_Aviator_': 2, \"Hardy_of_Myra's_Marvels_\": 4, 'Hardy_Outlander_': 2, 'Hargilde__Kindly_Runechanter_': 4, 'Harold_and_Bob__First_Numens_': 3, 'Haunted_One_': 3, 'Hazduhr_the_Abbot_': 5, 'Hazezon__Shaper_of_Sand_': 3, 'Hazezon_Tamar_': 7, 'Hazoret_the_Fervent_': 4, 'Headliner_Scarlett_': 4, 'Heartless_Hidetsugu_': 5, 'Heidar__Rimewind_Master_': 5, 'Heiko_Yamazaki__the_General_': 4, 'Heliod__God_of_the_Sun_': 4, 'Heliod__Sun-Crowned_': 3, 'Heliod__the_Radiant_Dawn_': 4, 'Henrika_Domnathi_': 4, 'Henry_Wu__InGen_Geneticist_': 3, 'Henzie_\"Toolbox\"_Torre_': 3, 'He_Who_Hungers_': 5, \"Hex__Kellan's_Companion_\": 2, 'Hidetsugu_and_Kairi_': 5, 'Hidetsugu__Devouring_Chaos_': 4, 'High_Marshal_Arguel_': 3, 'Higure__the_Still_Wind_': 5, 'Hikari__Twilight_Guardian_': 5, 'Hinata__Dawn-Crowned_': 4, 'Hisoka__Minamo_Sensei_': 4, 'Hivis_of_the_Scale_': 5, 'Hixus__Prison_Warden_': 5, 'Hofri_Ghostforge_': 5, 'Hogaak__Arisen_Necropolis_': 7, 'Hokori__Dust_Drinker_': 4, 'Holga__Relentless_Rager_': 6, 'Homura__Human_Ascendant_': 6, 'Hope_of_Ghirapur_': 1, 'Horde_of_Notions_': 5, \"Horobi__Death's_Wail_\": 4, 'Huang_Zhong__Shu_General_': 4, 'Huatli__Poet_of_Unity_': 3, 'Hua_Tuo__Honored_Physician_': 3, 'Hunding_Gjornersen_': 6, 'Hurkyl__Master_Wizard_': 3, 'Hylda_of_the_Icy_Crown_': 4, 'Hythonia_the_Cruel_': 6, 'Ian_Chesterton_': 3, 'Ian_Malcolm__Chaotician_': 3, 'Ian_the_Reckless_': 2, 'Ib_Halfheart__Goblin_Tactician_': 4, 'Ich-Tekik__Salvage_Splicer_': 5, 'Icingdeath__Frost_Tyrant_': 4, 'Idris__Soul_of_the_TARDIS_': 3, \"Ignacio_of_Myra's_Marvels_\": 4, \"Ihsan's_Shade_\": 6, 'Iizuka_the_Ruthless_': 5, 'Ikra_Shidiqi__the_Usurper_': 5, 'Ilharg__the_Raze-Boar_': 5, 'Illuminor_Szeras_': 3, 'Illuna__Apex_of_Wishes_': 5, 'Imaryll__Elfhame_Elite_': 4, 'Immard__the_Stormcleaver_': 4, 'Imodane__the_Pyrohammer_': 4, 'Imoen__Mystic_Trickster_': 3, 'Imoen__Trickster_Friend_': 2, 'Imotekh_the_Stormlord_': 4, 'Imoti__Celebrant_of_Bounty_': 5, 'Inalla__Archmage_Ritualist_': 5, 'Iname_as_One_': 12, 'Iname__Death_Aspect_': 6, 'Iname__Life_Aspect_': 6, 'Indominus_Rex__Alpha_': 5, 'Indoraptor__the_Perfect_Hybrid_': 3, 'Infernal_Kirin_': 4, 'Inferno_of_the_Star_Mounts_': 6, 'Inga_and_Esika_': 4, 'Inga_Rune-Eyes_': 4, 'Ink-Eyes__Servant_of_Oni_': 6, 'Inniaz__the_Gale_Force_': 5, 'Inquisitor_Eisenhorn_': 4, 'Inquisitor_Greyfax_': 4, 'Inspiring_Leader_': 3, 'Intet__the_Dreamer_': 6, 'Inti__Seneschal_of_the_Sun_': 2, 'Ioreth_of_the_Healing_House_': 3, 'Iraxxa__Empress_of_Mars_': 4, 'Irini_Sengir_': 4, 'Iroas__God_of_Victory_': 4, 'Isamaru__Hound_of_Konda_': 1, 'Isao__Enlightened_Bushi_': 3, 'Isareth_the_Awakener_': 3, 'Ishai__Ojutai_Dragonspeaker_': 4, 'Ishi-Ishi__Akki_Crackshot_': 2, 'Ishkanah__Broodmother_': 4, 'Ishkanah__Grafwidow_': 5, 'Isperia__Supreme_Judge_': 6, 'Isperia_the_Inscrutable_': 5, 'Isshin__Two_Heavens_as_One_': 3, 'Isu_the_Abominable_': 5, 'It_Came_from_Planet_Glurg_': 2, 'Ith__High_Arcanist_': 7, 'Itzquinth__Firstborn_of_Gishath_': 2, 'Ivy__Gleeful_Spellthief_': 2, 'Iwamori_of_the_Open_Fist_': 4, 'Ixhel__Scion_of_Atraxa_': 4, 'Ixidor__Reality_Sculptor_': 5, 'Iymrith__Desert_Doom_': 5, 'Izoni__Center_of_the_Web_': 6, 'Izoni__Thousand-Eyed_': 6, \"Jace__Vryn's_Prodigy_\": 2, 'Jacob_Hauken__Inspector_': 2, 'Jacques_le_Vert_': 4, 'Jadar__Ghoulcaller_of_Nephalia_': 2, 'Jadzi__Oracle_of_Arcavios_': 8, 'Jaheira__Friend_of_the_Forest_': 3, 'Jaheira__Harper_Emissary_': 2, 'Jalira__Master_Polymorphist_': 4, 'Jalum_Grifter_': 5, 'James__Wandering_Dad_': 3, 'Jamie_McCrimmon_': 3, 'Jan_Jansen__Chaos_Crafter_': 3, 'Jarad__Golgari_Lich_Lord_': 4, 'Jared_Carthalion_': 5, 'Jared_Carthalion__True_Heir_': 3, 'Jareth__Leonine_Titan_': 6, 'Jarsyl__Dark_Age_Scion_': 3, 'Jasmine_Boreal_': 5, 'Jasmine_Boreal_of_the_Seven_': 3, 'Jason_Bright__Glowing_Prophet_': 3, 'Jaxis__the_Troublemaker_': 4, 'Jaya_Ballard__Task_Mage_': 3, 'Jazal_Goldmane_': 4, 'Jedit_Ojanen_': 7, 'Jedit_Ojanen__Mercenary_': 3, 'Jedit_Ojanen_of_Efrava_': 6, 'Jegantha__the_Wellspring_': 5, \"Jeleva__Nephalia's_Scourge_\": 4, 'Jenara__Asura_of_War_': 3, 'Jenny_Flint_': 3, 'Jenny__Generated_Anomaly_': 4, 'Jenson_Carthalion__Druid_Exile_': 2, 'Jermane__Pride_of_the_Circus_': 2, 'Jerrard_of_the_Closed_Fist_': 6, 'Jerren__Corrupted_Bishop_': 3, 'Jeska__Thrice_Reborn_': 3, 'Jeska__Warrior_Adept_': 4, 'Jetfire__Ingenious_Scientist_': 5, 'Jetmir__Nexus_of_Revels_': 4, 'Jhoira__Ageless_Innovator_': 2, 'Jhoira_of_the_Ghitu_': 3, 'Jhoira__Weatherlight_Captain_': 4, 'Jin-Gitaxias__Core_Augur_': 10, 'Jin-Gitaxias__Progress_Tyrant_': 7, 'Jin-Gitaxias_': 5, \"Jinnie_Fay__Jetmir's_Second_\": 3, 'Jirina__Dauntless_General_': 2, 'Jirina_Kudro_': 4, 'Jiwari__the_Earth_Aflame_': 5, 'Jodah__Archmage_Eternal_': 4, 'Jodah__the_Unifier_': 5, 'Jo_Grant_': 3, 'Johan_': 6, 'Johann__Apprentice_Sorcerer_': 4, 'Johnny__Combo_Player_': 4, 'Jolene__the_Plunder_Queen_': 4, 'Jolrael__Empress_of_Beasts_': 5, 'Jolrael__Mwonvuli_Recluse_': 2, 'Jolrael__Voice_of_Zhalfir_': 4, 'Jon_Irenicus__Shattered_One_': 4, 'Jon_Irenicus__the_Exile_': 4, 'Jori_En__Ruin_Diver_': 3, 'Jor_Kadeen__First_Goldwarden_': 2, 'Jor_Kadeen__the_Prevailer_': 5, 'Jorn__God_of_Winter_': 3, 'Josu_Vess__Lich_Knight_': 4, 'Joven_': 5, 'Judith__Carnage_Connoisseur_': 5, 'Judith__the_Scourge_Diva_': 3, 'Jugan__the_Rising_Star_': 6, 'Junji__the_Midnight_Sky_': 5, 'Juri__Master_of_the_Revue_': 2, 'K-9__Mark_I_': 1, 'Kaalia_of_the_Vast_': 4, 'Kaalia__Zenith_Seeker_': 3, 'Kadena__Slinking_Sorcerer_': 4, 'Kaervek_the_Merciless_': 7, 'Kaervek__the_Spiteful_': 4, 'Kagemaro__First_to_Suffer_': 5, 'Kagha__Shadow_Archdruid_': 4, 'Kaheera__the_Orphanguard_': 3, 'Kaho__Minamo_Historian_': 4, 'Kaima__the_Fractured_Calm_': 4, 'Kairi__the_Swirling_Sky_': 6, 'Kalain__Reclusive_Painter_': 2, 'Kalamax__the_Stormsire_': 4, 'Kalemne__Disciple_of_Iroas_': 4, 'Kalitas__Bloodchief_of_Ghet_': 7, 'Kalitas__Traitor_of_Ghet_': 4, \"Kamachal__Ship's_Mascot_\": 3, 'Kamahl__Fist_of_Krosa_': 6, 'Kamahl__Heart_of_Krosa_': 8, 'Kamahl__Pit_Fighter_': 6, 'Kambal__Consul_of_Allocation_': 3, 'Kamber__the_Plunderer_': 4, 'Kami_of_the_Crescent_Moon_': 2, 'Kamiz__Obscura_Oculus_': 4, 'Kangee__Aerie_Keeper_': 4, 'Kangee__Sky_Warden_': 5, 'Karador__Ghost_Chieftain_': 8, 'Karametra__God_of_Harvests_': 5, 'Karazikar__the_Eye_Tyrant_': 5, 'Kardum__Patron_of_Flames_': 4, 'Kardur__Doomscourge_': 4, 'Kari_Zev__Skyship_Raider_': 2, 'Karlach__Fury_of_Avernus_': 5, 'Karlach__Raging_Tiefling_': 2, 'Karlov_of_the_Ghost_Council_': 2, 'Karn__Legacy_Reforged_': 5, 'Karn__Silver_Golem_': 5, 'Karona__False_God_': 6, 'Karrthus__Tyrant_of_Jund_': 7, 'Karumonix__the_Rat_King_': 3, 'Karvanista__Loyal_Lupari_': 5, 'Kaseto__Orochi_Archmage_': 3, 'Kasimir_the_Lone_Wolf_': 6, 'Kasla__the_Broken_Halo_': 6, \"Kataki__War's_Wage_\": 2, \"Katerina_of_Myra's_Marvels_\": 4, 'Kate_Stewart_': 4, 'Kathril__Aspect_Warper_': 5, 'Katilda_and_Lier_': 3, 'Katilda__Dawnhart_Martyr_': 3, 'Katilda__Dawnhart_Prime_': 2, 'Katsumasa__the_Animator_': 4, 'Kaust__Eyes_of_the_Glade_': 2, 'Kaysa_': 5, 'Kaza__Roil_Chaser_': 2, 'Kazarov__Sengir_Pureblood_': 7, 'Kazuul__Tyrant_of_the_Cliffs_': 5, 'Kediss__Emberclaw_Familiar_': 2, 'Kefnet_the_Mindful_': 3, 'Keiga__the_Tide_Star_': 6, 'Kei_Takahashi_': 4, 'Keleth__Sunmane_Familiar_': 2, 'Kellan__Daring_Traveler_': 2, 'Kellan__Inquisitive_Prodigy_': 4, 'Kellan__the_Fae-Blooded_': 3, 'Kellogg__Dangerous_Mind_': 3, 'Kels__Fight_Fixer_': 4, 'Kelsien__the_Plague_': 3, 'Kemba__Kha_Enduring_': 2, 'Kemba__Kha_Regent_': 3, 'Kenessos__Priest_of_Thassa_': 2, 'Kenrith__the_Returned_King_': 5, 'Kentaro__the_Smiling_Cat_': 2, 'Keranos__God_of_Storms_': 5, 'Keruga__the_Macrosage_': 5, 'Keskit__the_Flesh_Sculptor_': 3, 'Kess__Dissident_Mage_': 4, 'Kestia__the_Cultivator_': 4, 'Kethek__Crucible_Goliath_': 4, 'Kethis__the_Hidden_Hand_': 3, 'Khârn_the_Betrayer_': 4, 'Khorvath_Brightflame_': 6, 'Kianne__Dean_of_Substance_': 3, 'Kibo__Uktabi_Prince_': 3, 'Kiki-Jiki__Mirror_Breaker_': 5, \"Kiku__Night's_Flower_\": 2, 'Killian__Ink_Duelist_': 2, 'King_Darien_XLVIII_': 3, 'King_Macar__the_Gold-Cursed_': 4, 'King_of_the_Oathbreakers_': 4, 'Kinnan__Bonder_Prodigy_': 2, 'Kinzu_of_the_Bleak_Coven_': 5, 'Ratchet__Field_Medic_': 1, 'Raul__Trouble_Shooter_': 2, 'Ravos__Soultender_': 2, 'Rayami__First_of_the_Fallen_': 3, 'Rayne__Academy_Chancellor_': 1, 'Razaketh__the_Foulblooded_': 3, 'Razia__Boros_Archangel_': 4, 'Reaper_King_': 0, 'Rebbec__Architect_of_Ascension_': 1, 'Red_Death__Shipwrecker_': 2, 'Reezug__the_Bonecobbler_': 1, 'Regna__the_Redeemer_': 1, 'Reidane__God_of_the_Worthy_': 1, 'Reki__the_History_of_Kamigawa_': 1, 'Rem_Karolus__Stalwart_Slayer_': 2, 'Renari__Merchant_of_Marvels_': 1, 'Renata__Called_to_the_Hunt_': 2, 'Reveka__Wizard_Savant_': 2, 'Rex__Cyber-Hound_': 2, 'Reya_Dawnbringer_': 3, 'Reyav__Master_Smith_': 2, 'Reyhan__Last_of_the_Abzan_': 2, 'Rhoda__Geist_Avenger_': 1, 'Rhonas_the_Indomitable_': 1, 'Rhuk__Hexgold_Nabber_': 1, 'Rhys_the_Exiled_': 1, 'Rhys_the_Redeemed_': 1, 'Ria_Ivor__Bane_of_Bladehold_': 2, 'Richard_Garfield__Ph.D._': 2, 'Richlau__Headmaster_': 2, 'Rielle__the_Everwise_': 2, 'Rienne__Angel_of_Rebirth_': 3, 'Rigo__Streetwise_Mentor_': 3, 'Riku_of_Two_Reflections_': 3, 'Rilsa_Rael__Kingpin_': 2, 'Rin_and_Seri__Inseparable_': 3, 'Rionya__Fire_Dancer_': 2, 'Rishkar__Peema_Renegade_': 1, 'Risona__Asari_Commander_': 2, 'Rith__Liberated_Primeval_': 3, 'Rith__the_Awakener_': 3, 'Rivaz_of_the_Claw_': 2, 'Riven_Turnbull_': 2, 'River_Song_': 2, 'Roalesk__Apex_Hybrid_': 3, 'Rocco__Cabaretti_Caterer_': 3, 'Rocco__Street_Chef_': 3, 'Rodolf_Duskbringer_': 1, 'Rograkh__Son_of_Rohgahh_': 1, 'Rohgahh__Kher_Keep_Overlord_': 2, 'Rohgahh_of_Kher_Keep_': 4, 'Romana_II_': 1, 'Rona__Disciple_of_Gix_': 2, 'Rona__Herald_of_Invasion_': 1, \"Rona__Sheoldred's_Faithful_\": 3, 'Roon_of_the_Hidden_Realm_': 3, 'Rootha__Mercurial_Artist_': 2, 'Rorix_Bladewing_': 3, 'Rory_Williams_': 2, 'Rose__Cutthroat_Raider_': 2, 'Rose_Noble_': 1, 'Rose_Tyler_': 1, 'Rosheen_Meanderer_': 1, 'Rosie_Cotton_of_South_Lane_': 1, 'Rosnakht__Heir_of_Rohgahh_': 1, 'Rothga__Bonded_Engulfer_': 2, 'Rowan_Kenrith_': 2, 'Rowan__Scion_of_War_': 2, 'Roxi__Publicist_to_the_Stars_': 2, 'Rubinia_Soulsinger_': 3, 'Ruby__Daring_Tracker_': 2, 'Ruhan_of_the_Fomori_': 3, 'Rukarumel__Biologist_': 5, 'Rulik_Mons__Warren_Chief_': 3, 'Runadi__Behemoth_Caller_': 1, 'Rune-Tail__Kitsune_Ascendant_': 1, 'Runo_Stromkirk_': 2, 'Ruric_Thar__the_Unbowed_': 2, 'Rusko__Clockmaker_': 2, 'Ruxa__Patient_Professor_': 2, 'Ryan_Sinclair_': 1, 'Ryusei__the_Falling_Star_': 1, 'Sachi__Daughter_of_Seshiro_': 2, 'Safana__Calimport_Cutthroat_': 1, 'Saffi_Eriksdotter_': 2, 'Saheeli__the_Gifted_': 2, \"Saheeli__the_Sun's_Brilliance_\": 2, 'Sai__Master_Thopterist_': 1, 'Saint_Traft_and_Rem_Karolus_': 3, 'Sakashima_of_a_Thousand_Faces_': 1, 'Sakashima_the_Impostor_': 2, 'Sakiko__Mother_of_Summer_': 2, 'Sally_Sparrow_': 2, 'Sam__Loyal_Attendant_': 2, 'Samut__Vizier_of_Naktamun_': 2, 'Samut__Voice_of_Dissent_': 2, 'Samwise_Gamgee_': 2, 'Samwise_the_Stouthearted_': 1, 'Sanwell__Avenger_Ace_': 1, 'Sapling_of_Colfenor_': 2, 'Saradoc__Master_of_Buckland_': 1, 'Sarah_Jane_Smith_': 1, 'Sarevok__Deathbringer_': 1, 'Sarevok_the_Usurper_': 1, 'Sarkhan__Soul_Aflame_': 2, 'Sarulf__Realm_Eater_': 2, 'Saruman_of_Many_Colors_': 3, 'Saruman_the_White_': 1, 'Saruman__the_White_Hand_': 3, \"Saryth__the_Viper's_Fang_\": 2, 'Sasaya__Orochi_Ascendant_': 2, 'Saskia_the_Unyielding_': 4, 'Satoru_Umezawa_': 2, 'Satsuki__the_Living_Lore_': 2, 'Sauron__Lord_of_the_Rings_': 3, 'Sauron__the_Dark_Lord_': 3, 'Sauron__the_Lidless_Eye_': 2, 'Sauron__the_Necromancer_': 2, 'Savra__Queen_of_the_Golgari_': 2, 'Scion_of_Halaster_': 1, 'Scion_of_the_Ur-Dragon_': 5, 'Sedris__the_Traitor_King_': 3, 'Sefris_of_the_Hidden_Ways_': 3, 'Seizan__Perverter_of_Truth_': 2, \"Sekki__Seasons'_Guide_\": 3, \"Sek'Kuar__Deathkeeper_\": 3, 'Selenia__Dark_Angel_': 2, 'Selvala__Explorer_Returned_': 2, 'Selvala__Heart_of_the_Wilds_': 2, 'Senator_Peacock_': 2, 'Sengir__the_Dark_Baron_': 2, 'Sensei_Golden-Tail_': 1, 'Sentinel_Sarah_Lyons_': 2, 'Sen_Triplets_': 3, \"Sephara__Sky's_Blade_\": 3, 'Sergeant_John_Benton_': 2, 'Seshiro_the_Anointed_': 2, 'Sethron__Hurloon_General_': 2, 'Seton__Krosan_Protector_': 3, 'Sevinne__the_Chronoclasm_': 3, 'Shabraz__the_Skyshark_': 2, 'Shadowfax__Lord_of_Horses_': 2, 'Shadowheart__Dark_Justiciar_': 1, 'Shadowheart__Sharran_Cleric_': 1, 'Shadrix_Silverquill_': 2, 'Shagrat__Loot_Bearer_': 2, 'Shaile__Dean_of_Radiance_': 1, 'Shalai_and_Hallar_': 3, 'Shalai__Voice_of_Plenty_': 1, 'Shameless_Charlatan_': 1, \"Shanid__Sleepers'_Scourge_\": 3, 'Shanna__Purifying_Blade_': 3, \"Shanna__Sisay's_Legacy_\": 2, 'Sharae_of_Numbing_Depths_': 2, 'Sharkey__Tyrant_of_the_Shire_': 2, 'Sharuum_the_Hegemon_': 3, 'Shattergang_Brothers_': 3, 'Shauku__Endbringer_': 2, 'Shaun__Father_of_Synths_': 2, 'Shelob__Child_of_Ungoliant_': 2, 'Shelob__Dread_Weaver_': 1, 'Sheoldred__the_Apocalypse_': 2, 'Sheoldred_': 2, 'Sheoldred__Whispering_One_': 2, \"Shessra__Death's_Whisper_\": 2, 'Shigeki__Jukai_Visionary_': 1, 'Shimatsu_the_Bloodcloaked_': 1, \"Shirei__Shizo's_Caretaker_\": 1, 'Shisato__Whispering_Hunter_': 1, 'Shizuko__Caller_of_Autumn_': 2, 'Shorikai__Genesis_Engine_': 2, 'Shu_Yun__the_Silent_Tempest_': 1, 'Siani__Eye_of_the_Storm_': 1, 'Sidar_Jabari_': 1, 'Sidar_Jabari_of_Zhalfir_': 3, 'Sidar_Kondo_of_Jamuraa_': 2, 'Sidisi__Brood_Tyrant_': 3, 'Sidisi__Undead_Vizier_': 2, \"Sierra__Nuka's_Biggest_Fan_\": 1, 'Sigarda__Champion_of_Light_': 3, 'Sigarda__Font_of_Blessings_': 2, \"Sigarda__Heron's_Grace_\": 2, 'Sigarda__Host_of_Herons_': 3, 'Sigrid__God-Favored_': 2, 'Silas_Renn__Seeker_Adept_': 2, 'Silumgar__the_Drifting_Death_': 2, 'Silvar__Devourer_of_the_Free_': 2, 'Silvos__Rogue_Elemental_': 3, 'Sima_Yi__Wei_Field_Marshal_': 1, 'Simon__Wild_Magic_Sorcerer_': 1, 'Siona__Captain_of_the_Pyleas_': 2, 'Sir_Shandlar_of_Eberyn_': 2, 'Sisay__Weatherlight_Captain_': 1, 'Sisters_of_Stone_Death_': 4, 'Sivitri__Dragon_Master_': 2, 'Sivitri_Scarzam_': 2, 'Sivriss__Nightmare_Speaker_': 1, 'Skanos_Dragonheart_': 1, 'Skanos__Dragon_Vassal_': 1, 'Skeleton_Ship_': 2, 'Skithiryx__the_Blight_Dragon_': 2, 'Skrelv__Defector_Mite_': 1, 'Skullbriar__the_Walking_Grave_': 2, 'Skyfire_Kirin_': 2, 'Slicer__Hired_Muscle_': 1, 'Slimefoot_and_Squee_': 3, 'Slimefoot__Thallid_Transplant_': 2, 'Slimefoot__the_Stowaway_': 2, 'Slinn_Voda__the_Rising_Deep_': 2, 'Sliver_Gravemother_': 5, 'Sliver_Hivelord_': 5, 'Sliver_Legion_': 5, 'Sliver_Overlord_': 5, 'Sliver_Queen_': 5, 'Slobad__Goblin_Tinkerer_': 1, 'Slobad__Iron_Goblin_': 1, 'Slogurk__the_Overslime_': 2, 'Slurrk__All-Ingesting_': 1, 'Sméagol__Helpful_Guide_': 2, 'Snapdax__Apex_of_the_Hunt_': 3, 'Solaflora__Intergalactic_Icon_': 2, \"Sol'kanar_the_Swamp_King_\": 3, \"Sol'Kanar_the_Tainted_\": 3, 'Solphim__Mayhem_Dominus_': 2, 'Sophia__Dogged_Detective_': 3, 'Sophina__Spearsage_Deserter_': 2, 'Soramaro__First_to_Dream_': 2, 'Soraya_the_Falconer_': 2, 'Sosuke__Son_of_Seshiro_': 2, 'Soul_of_Windgrace_': 3, 'Soundwave__Sonic_Spy_': 3, 'Sovereign_Okinec_Ahau_': 2, 'Spike__Tournament_Grinder_': 2, 'Spinnerette__Arachnobat_': 2, 'Spirit_of_the_Night_': 3, 'Squee__Dubious_Monarch_': 1, 'Squee__Goblin_Nabob_': 1, 'Squee__the_Immortal_': 2, 'Sram__Senior_Edificer_': 1, 'Stangg_': 2, 'Stangg__Echo_Warrior_': 2, 'Starke_of_Rath_': 2, 'Starscream__Power_Hungry_': 1, 'Stenn__Paranoid_Partisan_': 2, 'Stet__Draconic_Proofreader_': 2, 'Stitcher_Geralf_': 2, 'Stonebrow__Krosan_Hero_': 2, 'Storrev__Devkarin_Lich_': 3, 'Storvald__Frost_Giant_Jarl_': 3, 'Strax__Sontaran_Nurse_': 2, 'Street_Urchin_': 1, 'Strefan__Maurer_Progenitor_': 2, 'Strider__Ranger_of_the_North_': 2, 'Strong__the_Brutish_Thespian_': 2, 'Subira__Tulzidi_Caravanner_': 1, 'Sunastian_Falconer_': 2, 'Sun_Ce__Young_Conquerer_': 2, 'Sun_Quan__Lord_of_Wu_': 2, 'Surgeon_General_Commander_': 1, 'Surrak_and_Goreclaw_': 2, 'Surrak_Dragonclaw_': 3, 'Surrak__the_Hunt_Caller_': 2, 'Susan_Foreman_': 1, 'Svella__Ice_Shaper_': 2, 'Svyelun_of_Sea_and_Sky_': 2, 'Sword_Coast_Sailor_': 1, 'Sydri__Galvanic_Genius_': 3, 'Sygg__River_Cutthroat_': 2, 'Sygg__River_Guide_': 2, 'Sylvia_Brightspear_': 1, \"Syr_Alin__the_Lion's_Claw_\": 2, 'Syr_Armont__the_Redeemer_': 2, 'Syr_Cadian__Knight_Owl_': 2, 'Syr_Carah__the_Bold_': 2, 'Syr_Elenora__the_Discerning_': 2, 'Syr_Faren__the_Hengehammer_': 2, 'Syr_Ginger__the_Meal_Ender_': 0, 'Syr_Gwyn__Hero_of_Ashvale_': 3, 'Syrix__Carrier_of_the_Flame_': 2, 'Syr_Joshua_and_Syr_Saxon_': 2, 'Syr_Konrad__the_Grim_': 2, \"Sythis__Harvest's_Hand_\": 2, 'Szadek__Lord_of_Secrets_': 4, 'Szarekh__the_Silent_King_': 3, \"Taborax__Hope's_Demise_\": 1, 'Tadeas__Juniper_Ascendant_': 2, 'Tahngarth__First_Mate_': 2, 'Tahngarth__Talruum_Hero_': 2, 'Taigam__Ojutai_Master_': 2, \"Taigam__Sidisi's_Hand_\": 2, 'Tajic__Blade_of_the_Legion_': 2, \"Tajic__Legion's_Edge_\": 2, 'Takeno__Samurai_General_': 1, 'Talion__the_Kindly_Lord_': 2, 'Talrand__Sky_Summoner_': 2, 'Tameshi__Reality_Architect_': 1, 'Tana__the_Bloodsower_': 2, 'Tanazir_Quandrix_': 2, 'Taniwha_': 2, 'Tan_Jolom__the_Worldwalker_': 3, 'Taranika__Akroan_Veteran_': 2, 'Targ_Nar__Demon-Fang_Gnoll_': 2, 'Tariel__Reckoner_of_Souls_': 3, 'Tarox_Bladewing_': 3, 'Tasha__the_Witch_Queen_': 2, 'Tasigur__the_Golden_Fang_': 1, 'Tatsunari__Toad_Rider_': 1, 'Tatyova__Benthic_Druid_': 2, 'Tatyova__Steward_of_Tides_': 3, 'Tavern_Brawler_': 1, 'Tawnos__Solemn_Survivor_': 1, 'Tawnos__the_Toymaker_': 2, \"Tawnos__Urza's_Apprentice_\": 2, 'Tayam__Luminous_Enigma_': 3, 'Tazri__Beacon_of_Unity_': 1, 'Tazri__Stalwart_Survivor_': 1, 'Teferi__Mage_of_Zhalfir_': 3, 'Teferi__Temporal_Archmage_': 2, 'Tegan_Jovanka_': 1, 'Tegwyll__Duke_of_Splendor_': 2, 'Tekuthal__Inquiry_Dominus_': 2, \"Telim'Tor_\": 1, 'Temmet__Vizier_of_Naktamun_': 2, 'Teneb__the_Harvester_': 3, 'Tergrid__God_of_Fright_': 2, \"Tesak__Judith's_Hellhound_\": 1, \"Teshar__Ancestor's_Apostle_\": 1, 'Tetsuko_Umezawa__Fugitive_': 1, 'Tetsuo__Imperial_Champion_': 3, 'Tetsuo_Umezawa_': 3, 'Tetzimoc__Primal_Death_': 2, 'Tetzin__Gnome_Champion_': 3, 'Tevesh_Szat__Doom_of_Fools_': 1, 'Teysa__Envoy_of_Ghosts_': 2, 'Teysa_Karlov_': 2, 'Teysa__Opulent_Oligarch_': 2, 'Teysa__Orzhov_Scion_': 2, 'Thada_Adel__Acquisitor_': 2, 'Thalia_and_The_Gitrog_Monster_': 3, 'Thalia__Guardian_of_Thraben_': 1, 'Thalia__Heretic_Cathar_': 1, 'Thalisse__Reverent_Medium_': 2, 'Thantis__the_Warweaver_': 3, 'Thassa__Deep-Dwelling_': 1, 'Thassa__God_of_the_Sea_': 1, 'The_Ancient_One_': 2, 'The_Archimandrite_': 3, \"The_Balrog__Durin's_Bane_\": 2, 'The_Balrog__Flame_of_Udûn_': 2, 'The_Balrog_of_Moria_': 3, 'The_Beamtown_Bullies_': 3, 'The_Beast__Deathless_Prince_': 2, 'The_Big_Idea_': 2, 'The_Celestial_Toymaker_': 3, 'The_Council_of_Four_': 2, 'The_Cyber-Controller_': 3, 'The_Dalek_Emperor_': 2, 'The_Eighth_Doctor_': 2, 'The_Eleventh_Doctor_': 2, \"The_Ever-Changing_'Dane_\": 3, 'The_Face_of_Boe_': 3, 'The_Fifteenth_Doctor_': 2, 'The_Fifth_Doctor_': 2, 'The_First_Doctor_': 2, 'The_First_Sliver_': 5, 'The_Fourteenth_Doctor_': 3, 'The_Fourth_Doctor_': 2, 'The_Fugitive_Doctor_': 2, 'The_Gaffer_': 1, 'The_Gitrog_Monster_': 2, 'The_Goose_Mother_': 2, 'The_Grand_Calcutron_': 2, 'The_Haunt_of_Hightower_': 2, 'The_Hourglass_Coven_': 2, 'The_Howling_Abomination_': 2, 'The_Lady_of_Otaria_': 2, 'The_Lady_of_the_Mountain_': 2, 'The_Locust_God_': 2, 'Thelon_of_Havenwood_': 2, 'The_Master__Formed_Anew_': 2, \"The_Master__Gallifrey's_End_\": 2, 'The_Master__Mesmerist_': 2, 'The_Master__Multiplied_': 2, 'The_Master__Transcendent_': 3, 'Themberchaud_': 3, 'The_Meep_': 1, 'The_Mimeoplasm_': 3, 'The_Most_Dangerous_Gamer_': 2, 'The_Motherlode__Excavator_': 2, 'The_Mouth_of_Sauron_': 2, 'The_Mycotyrant_': 2, 'The_Ninth_Doctor_': 2, 'Théoden__King_of_Rohan_': 2, 'The_Peregrine_Dynamo_': 0, 'The_Pride_of_Hull_Clade_': 1, 'The_Prismatic_Piper_': 0, 'The_Rani_': 3, 'The_Raven_Man_': 1, 'The_Reality_Chip_': 1, 'The_Red_Terror_': 1, 'The_Scarab_God_': 2, 'The_Scorpion_God_': 2, 'The_Second_Doctor_': 2, 'The_Seventh_Doctor_': 2, 'The_Sixth_Doctor_': 2, 'The_Space_Family_Goblinson_': 2, 'The_Swarmlord_': 3, 'The_Tarrasque_': 3, 'The_Tenth_Doctor_': 2, 'The_Third_Doctor_': 2, 'The_Thirteenth_Doctor_': 2, 'The_Twelfth_Doctor_': 2, 'The_Unspeakable_': 3, 'The_Ur-Dragon_': 5, 'The_Valeyard_': 3, 'The_War_Doctor_': 2, 'The_Watcher_in_the_Water_': 2, 'The_Wise_Mothman_': 3, 'Thrakkus_the_Butcher_': 2, 'Thrasios__Triton_Hero_': 2, \"Thrasta__Tempest's_Roar_\": 2, 'Thraximundar_': 3, 'Three_Dog__Galaxy_News_DJ_': 2, 'Thriss__Nantuko_Primus_': 2, 'Thromok_the_Insatiable_': 2, 'Thrun__Breaker_of_Silence_': 2, 'Thrun__the_Last_Troll_': 2, 'Thryx__the_Sudden_Storm_': 2, 'Tiamat_': 5, 'Tiana__Angelic_Mechanic_': 2, \"Tiana__Ship's_Caretaker_\": 2, 'Tibor_and_Lumia_': 2, 'Timin__Youthful_Geist_': 1, 'Timmy__Power_Gamer_': 2, 'Timothar__Baron_of_Bats_': 2, 'Tinybones__the_Pickpocket_': 1, 'Tinybones__Trinket_Thief_': 1, 'Tishana__Voice_of_Thunder_': 2, \"Titania__Nature's_Force_\": 2, 'Titania__Protector_of_Argoth_': 2, 'Titania__Voice_of_Gaea_': 2, 'Tivadar_of_Thorn_': 2, 'Tivash__Gloom_Summoner_': 1, 'Tivit__Seller_of_Secrets_': 3, 'Tobias_Andrion_': 2, 'Tobias__Doomed_Conqueror_': 2, 'Tocasia__Dig_Site_Mentor_': 3, 'Toggo__Goblin_Weaponsmith_': 1, 'Tolsimir__Friend_to_Wolves_': 3, \"Tolsimir__Midnight's_Light_\": 3, 'Tolsimir_Wolfblood_': 2, 'Toluz__Clever_Conductor_': 3, 'Tom_Bombadil_': 5, 'Tomik__Distinguished_Advokist_': 2, 'Tomik__Wielder_of_Law_': 2, \"Tomorrow__Azami's_Familiar_\": 1, 'Toothy__Imaginary_Friend_': 1, 'Toralf__God_of_Fury_': 2, 'Torbran__Thane_of_Red_Fell_': 3, 'Torens__Fist_of_the_Angels_': 2, 'Torgaar__Famine_Incarnate_': 2, \"Tori_D'Avenant__Fury_Rider_\": 3, 'Tormod__the_Desecrator_': 1, 'Torsten__Founder_of_Benalia_': 2, 'Torsten_Von_Ursus_': 3, 'Tor_Wauki_': 3, 'Tor_Wauki_the_Younger_': 2, 'Toshiro_Umezawa_': 2, 'Toski__Bearer_of_Secrets_': 1, 'Totentanz__Swarm_Piper_': 2, 'Tourach__Dread_Cantor_': 1, 'Tovolar__Dire_Overlord_': 2, 'Toxrill__the_Corrosive_': 2, 'Traxos__Scourge_of_Kroog_': 0, 'Trazyn_the_Infinite_': 2, 'Treebeard__Gracious_Host_': 2, 'Treizeci__Sun_of_Serra_': 1, 'Trelasarra__Moon_Dancer_': 2, 'Treva__the_Renewer_': 3, 'Triad_of_Fates_': 2, 'Tromokratis_': 2, 'Trostani_Discordant_': 2, \"Trostani__Selesnya's_Voice_\": 4, 'Trostani__Three_Whispers_': 3, 'Troyan__Gutsy_Explorer_': 2, 'Truss__Chief_Engineer_': 2, 'Trynn__Champion_of_Freedom_': 1, 'Tsabo_Tavoc_': 2, 'Tuknir_Deathlock_': 4, 'Tuktuk_the_Explorer_': 1, 'Tura_Kennerüd__Skyknight_': 3, 'Tusk_and_Whiskers_': 2, 'Tuvasa_the_Sunlit_': 3, 'Tuya_Bearclaw_': 2, 'Tymaret__Chosen_from_Death_': 2, 'Tymaret__the_Murder_King_': 2, 'Tymna_the_Weaver_': 2, 'Tyvar_the_Bellicose_': 2, 'Uchbenbak__the_Great_Mistake_': 2, 'Uglúk_of_the_White_Hand_': 2, 'Ukkima__Stalking_Shadow_': 2, 'Ulamog__the_Ceaseless_Hunger_': 0, 'Ulamog__the_Infinite_Gyre_': 0, 'Ulasht__the_Hate_Seed_': 2, 'Ulder_Ravengard__Marshal_': 2, 'Ulrich_of_the_Krallenhorde_': 2, 'Ultra_Magnus__Tactician_': 3, 'Umbris__Fear_Manifest_': 2, 'Umori__the_Collector_': 2, 'Unctus__Grand_Metatect_': 2, 'Unesh__Criosphinx_Sovereign_': 2, 'Urabrask__Heretic_Praetor_': 2, 'Urabrask_': 2, 'Urabrask_the_Hidden_': 2, 'Ur-Drago_': 4, 'Urgoros__the_Empty_One_': 2, 'Uril__the_Miststalker_': 3, \"Uro__Titan_of_Nature's_Wrath_\": 2, 'Urtet__Remnant_of_Memnarch_': 0, 'Urza__Chief_Artificer_': 3, 'Urza__Lord_High_Artificer_': 2, 'Urza__Lord_Protector_': 2, 'Urza__Powerstone_Prodigy_': 1, 'Urza__Prince_of_Kroog_': 2, 'Uurg__Spawn_of_Turg_': 3, 'Uvilda__Dean_of_Perfection_': 1, 'Uyo__Silent_Prophet_': 2, 'Vadrik__Astral_Archmage_': 2, 'Vadrok__Apex_of_Thunder_': 3, 'Vaevictis_Asmadi_': 6, 'Vaevictis_Asmadi__the_Dire_': 3, 'Valduk__Keeper_of_the_Flame_': 1, 'Valentin__Dean_of_the_Vein_': 1, 'Valki__God_of_Lies_': 1, 'Vannifar__Evolved_Enigma_': 2, 'Varchild__Betrayer_of_Kjeldor_': 1, 'Varina__Lich_Queen_': 3, 'Varis__Silverymoon_Ranger_': 2, 'Varolz__the_Scar-Striped_': 2, 'Varragoth__Bloodsky_Sire_': 1, 'Vazi__Keen_Negotiator_': 3, 'Vega__the_Watcher_': 2, 'Vela_the_Night-Clad_': 2, 'Veldrane_of_Sengir_': 2, 'Velomachus_Lorehold_': 2, 'Vendilion_Clique_': 2, 'Venser__Corpse_Puppet_': 2, 'Venser__Shaper_Savant_': 2, 'Verazol__the_Split_Current_': 2, 'Verdeloth_the_Ancient_': 2, 'Verix_Bladewing_': 2, 'Veronica__Dissident_Scribe_': 1, 'Verrak__Warped_Sengir_': 2, 'Veteran_Soldier_': 1, \"Vexyr__Ich-Tekik's_Heir_\": 3, 'Veyran__Voice_of_Duality_': 2, 'Vhal__Candlekeep_Researcher_': 1, 'Vhal__Eager_Scholar_': 1, 'Vhati_il-Dal_': 2, 'Vial_Smasher_the_Fierce_': 2, 'Viconia__Drow_Apostate_': 1, \"Viconia__Nightsinger's_Disciple_\": 1, 'Vikya__Scorching_Stalwart_': 1, 'Vilis__Broker_of_Blood_': 3, 'Virtus_the_Veiled_': 1, 'Visara_the_Dreadful_': 3, 'Vishgraz__the_Doomhive_': 3, 'Vish_Kal__Blood_Arbiter_': 3, 'Vislor_Turlough_': 1, 'Vito__Fanatic_of_Aclazotz_': 2, 'Vito__Thorn_of_the_Dusk_Rose_': 1, 'Vladimir_and_Godfrey_': 1, 'Vogar__Necropolis_Tyrant_': 2, 'Vohar__Vodalian_Desecrator_': 2, 'Voja__Jaws_of_the_Conclave_': 3, 'Volo__Guide_to_Monsters_': 2, 'Volo__Itinerant_Scholar_': 1, 'Volrath_the_Fallen_': 3, 'Volrath__the_Shapestealer_': 3, 'Vona__Butcher_of_Magan_': 2, 'Vorel_of_the_Hull_Clade_': 2, 'Vorinclex__Monstrous_Raider_': 2, 'Vorinclex_': 2, 'Vorinclex__Voice_of_Hunger_': 2, 'Vorosh__the_Hunter_': 3, 'Vorthos__Steward_of_Myth_': 1, 'Vraan__Executioner_Thane_': 1, 'Vrestin__Menoptra_Leader_': 3, 'Vrondiss__Rage_of_Ancients_': 2, 'Wasitora__Nekoru_Queen_': 3, 'Wayta__Trainer_Prodigy_': 3, \"Wernog__Rider's_Chaplain_\": 2, 'Whisper__Blood_Liturgist_': 1, 'Wilfred_Mott_': 1, 'Wilhelt__the_Rotcleaver_': 2, 'Will_Kenrith_': 2, 'Willowdusk__Essence_Seer_': 2, 'Will__Scion_of_Peace_': 2, 'Wilson__Bear_Comrade_': 1, 'Wilson__Refined_Grizzly_': 1, 'Winota__Joiner_of_Forces_': 2, 'Witch-king__Bringer_of_Ruin_': 2, 'Witch-king_of_Angmar_': 2, 'Witch-king__Sky_Scourge_': 2, 'Wort__Boggart_Auntie_': 2, 'Wort__the_Raidmother_': 2, 'Wrexial__the_Risen_Deep_': 3, 'Wulfgar_of_Icewind_Dale_': 2, 'Wydwen__the_Biting_Gale_': 2, 'Wyleth__Soul_of_Steel_': 2, 'Wyll__Blade_of_Frontiers_': 1, 'Wyll__Pact-Bound_Duelist_': 2, 'X_': 2, 'Xanathar__Guild_Kingpin_': 2, 'Xantcha__Sleeper_Agent_': 2, 'Xavier_Sal__Infested_Captain_': 3, 'Xenagos__God_of_Revels_': 2, 'Xenk__Paladin_Unbroken_': 2, 'Xiahou_Dun__the_One-Eyed_': 2, 'Xira_Arien_': 3, 'Xira__the_Golden_Sting_': 3, 'Xolatoyac__the_Smiling_Flood_': 2, 'Xun_Yu__Wei_Advisor_': 2, 'Xyris__the_Writhing_Storm_': 3, 'Yahenni__Undying_Partisan_': 1, 'Yannik__Scavenging_Sentinel_': 2, 'Yargle_and_Multani_': 3, 'Yargle__Glutton_of_Urborg_': 1, 'Yarok__the_Desecrated_': 3, 'Yarus__Roar_of_the_Old_Gods_': 2, 'Yasharn__Implacable_Earth_': 2, 'Yasmin_Khan_': 1, 'Yasova_Dragonclaw_': 1, 'Yawgmoth__Thran_Physician_': 2, 'Yedora__Grave_Gardener_': 1, 'Yenna__Redtooth_Regent_': 2, 'Yennett__Cryptic_Sovereign_': 3, 'Yes_Man__Personal_Securitron_': 1, \"Yeva__Nature's_Herald_\": 2, 'Yidaro__Wandering_Monster_': 2, 'Yidris__Maelstrom_Wielder_': 4, 'Yisan__the_Wanderer_Bard_': 1, 'Yomiji__Who_Bars_the_Way_': 2, 'Yorion__Sky_Nomad_': 2, 'Yorvo__Lord_of_Garenbrig_': 3, 'Yosei__the_Morning_Star_': 2, 'Yoshimaru__Ever_Faithful_': 1, 'Yuan_Shao__the_Indecisive_': 1, 'Yukora__the_Prisoner_': 2, \"Yuriko__the_Tiger's_Shadow_\": 2, 'Yurlok_of_Scorch_Thrash_': 3, \"Yusri__Fortune's_Flame_\": 2, 'Zabaz__the_Glimmerwasp_': 0, 'Zacama__Primal_Calamity_': 3, 'Zada__Hedron_Grinder_': 1, 'Zaffai__Thunder_Conductor_': 2, 'Zagras__Thief_of_Heartbeats_': 2, 'Zahid__Djinn_of_the_Lamp_': 2, 'Zalto__Fire_Giant_Duke_': 2, 'Zamriel__Seraph_of_Steel_': 2}\n"
     ]
    }
   ],
   "source": [
    "dataset = card_dict.set_index('card_name')['img_url'].to_dict()\n",
    "\n",
    "labels = card_dict.set_index('card_name')['cost'].to_dict()\n",
    "print(labels)"
   ]
  },
  {
   "cell_type": "code",
   "execution_count": 25,
   "metadata": {},
   "outputs": [],
   "source": [
    "def download_images(dataset, labels): # Downloading images from a dictionary type dataset - will fix / adapt later, just want to test this idea\n",
    "    for name, url in dataset.items():\n",
    "        try:\n",
    "            response = requests.get(url)\n",
    "            if response.status_code == 200:\n",
    "                # Save the image with a unique identifier, ie name\n",
    "                with open(f'images/{name}.jpg', 'wb') as file:\n",
    "                    file.write(response.content)\n",
    "                \n",
    "                # Associate the label with the image\n",
    "                mana_cost = labels.get(name)\n",
    "                if mana_cost:\n",
    "                    print(f\"Downloaded image for card {name} with mana cost {mana_cost}\")\n",
    "                else:\n",
    "                    print(f\"Label not found for card {name}\")\n",
    "            else:\n",
    "                print(f\"Failed to download image for card {name}\")\n",
    "        except Exception as e:\n",
    "            print(f\"Error downloading image for card {name}: {str(e)}\")\n",
    "\n"
   ]
  },
  {
   "cell_type": "code",
   "execution_count": 26,
   "metadata": {},
   "outputs": [
    {
     "name": "stdout",
     "output_type": "stream",
     "text": [
      "{'Eruth__Tormented_Prophet_': 'https://cards.scryfall.io/large/front/9/f/9f764077-df2d-4ac7-b507-2c8e08386d49.jpg?1643594095', 'Esika__God_of_the_Tree_': 'https://cards.scryfall.io/large/front/f/6/f6cd7465-9dd0-473c-ac5e-dd9e2f22f5f6.jpg?1631050188', 'Esior__Wardwing_Familiar_': 'https://cards.scryfall.io/large/front/8/6/86958821-76eb-43a5-974b-7c945e826a66.jpg?1611933914', 'Esix__Fractal_Bloom_': 'https://cards.scryfall.io/large/front/2/e/2e390f8e-1dd5-4383-83f5-45f20f18d410.jpg?1706241000', 'Estrid__the_Masked_': 'https://cards.scryfall.io/large/front/3/3/3340b83e-72dc-42e2-9f93-92f732c047df.jpg?1592710258', 'Etali__Primal_Conqueror_': 'https://cards.scryfall.io/large/front/9/5/95c14c4d-6c16-4826-8d93-d89ad04aee09.jpg?1682204132', 'Etali__Primal_Storm_': 'https://cards.scryfall.io/large/front/a/1/a18fdaf9-964d-45e9-bd40-a8fc745ddd1e.jpg?1706240833', 'Etrata__Deadly_Fugitive_': 'https://cards.scryfall.io/large/front/4/4/4410db5a-62af-43ac-979d-88a7c975f7bd.jpg?1706242152', 'Etrata__the_Silencer_': 'https://cards.scryfall.io/large/front/f/a/fa36b142-e67e-49da-9080-c5994e275266.jpg?1572893618', 'Eutropia_the_Twice-Favored_': 'https://cards.scryfall.io/large/front/c/2/c2159949-3d21-448d-bc34-a3dbaf219476.jpg?1581481050'}\n",
      "{'Eruth__Tormented_Prophet_': 3, 'Esika__God_of_the_Tree_': 3, 'Esior__Wardwing_Familiar_': 2, 'Esix__Fractal_Bloom_': 6, 'Estrid__the_Masked_': 4, 'Etali__Primal_Conqueror_': 7, 'Etali__Primal_Storm_': 6, 'Etrata__Deadly_Fugitive_': 3, 'Etrata__the_Silencer_': 4, 'Eutropia_the_Twice-Favored_': 3}\n"
     ]
    }
   ],
   "source": [
    "test_dataset = {key: dataset[key] for key in list(dataset.keys())[:10]}\n",
    "test_labels = {key: labels[key] for key in list(labels.keys())[:10]}\n",
    "print(test_dataset)\n",
    "print(test_labels)"
   ]
  },
  {
   "cell_type": "code",
   "execution_count": 27,
   "metadata": {},
   "outputs": [
    {
     "name": "stdout",
     "output_type": "stream",
     "text": [
      "Downloaded image for card Eruth__Tormented_Prophet_ with mana cost 3\n",
      "Downloaded image for card Esika__God_of_the_Tree_ with mana cost 3\n",
      "Downloaded image for card Esior__Wardwing_Familiar_ with mana cost 2\n",
      "Downloaded image for card Esix__Fractal_Bloom_ with mana cost 6\n",
      "Downloaded image for card Estrid__the_Masked_ with mana cost 4\n",
      "Downloaded image for card Etali__Primal_Conqueror_ with mana cost 7\n",
      "Downloaded image for card Etali__Primal_Storm_ with mana cost 6\n",
      "Downloaded image for card Etrata__Deadly_Fugitive_ with mana cost 3\n",
      "Downloaded image for card Etrata__the_Silencer_ with mana cost 4\n",
      "Downloaded image for card Eutropia_the_Twice-Favored_ with mana cost 3\n"
     ]
    }
   ],
   "source": [
    "download_images(test_dataset, test_labels)"
   ]
  },
  {
   "cell_type": "code",
   "execution_count": null,
   "metadata": {},
   "outputs": [],
   "source": []
  }
 ],
 "metadata": {
  "kernelspec": {
   "display_name": "base",
   "language": "python",
   "name": "python3"
  },
  "language_info": {
   "codemirror_mode": {
    "name": "ipython",
    "version": 3
   },
   "file_extension": ".py",
   "mimetype": "text/x-python",
   "name": "python",
   "nbconvert_exporter": "python",
   "pygments_lexer": "ipython3",
   "version": "3.11.5"
  }
 },
 "nbformat": 4,
 "nbformat_minor": 2
}
